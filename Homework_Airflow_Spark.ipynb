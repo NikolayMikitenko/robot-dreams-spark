{
 "cells": [
  {
   "cell_type": "code",
   "execution_count": 1,
   "id": "f4092076",
   "metadata": {},
   "outputs": [],
   "source": [
    "from pyspark.sql import SparkSession\n",
    "import pyspark.sql.functions as F\n",
    "from pyspark.sql.types import StructType, StringType, LongType"
   ]
  },
  {
   "cell_type": "code",
   "execution_count": 2,
   "id": "f0717292",
   "metadata": {},
   "outputs": [
    {
     "name": "stderr",
     "output_type": "stream",
     "text": [
      "Setting default log level to \"WARN\".\n",
      "To adjust logging level use sc.setLogLevel(newLevel). For SparkR, use setLogLevel(newLevel).\n"
     ]
    }
   ],
   "source": [
    "spark = SparkSession.builder\\\n",
    "    .master('local')\\\n",
    "    .appName('homework_lesson_14')\\\n",
    "    .getOrCreate()"
   ]
  },
  {
   "cell_type": "code",
   "execution_count": 3,
   "id": "8ed3db0e",
   "metadata": {},
   "outputs": [
    {
     "data": {
      "text/html": [
       "\n",
       "            <div>\n",
       "                <p><b>SparkSession - in-memory</b></p>\n",
       "                \n",
       "        <div>\n",
       "            <p><b>SparkContext</b></p>\n",
       "\n",
       "            <p><a href=\"http://0.0.0.0:4040\">Spark UI</a></p>\n",
       "\n",
       "            <dl>\n",
       "              <dt>Version</dt>\n",
       "                <dd><code>v3.1.1</code></dd>\n",
       "              <dt>Master</dt>\n",
       "                <dd><code>local</code></dd>\n",
       "              <dt>AppName</dt>\n",
       "                <dd><code>homework_lesson_14</code></dd>\n",
       "            </dl>\n",
       "        </div>\n",
       "        \n",
       "            </div>\n",
       "        "
      ],
      "text/plain": [
       "<pyspark.sql.session.SparkSession at 0x7fbbab265d00>"
      ]
     },
     "execution_count": 3,
     "metadata": {},
     "output_type": "execute_result"
    }
   ],
   "source": [
    "spark"
   ]
  },
  {
   "cell_type": "code",
   "execution_count": 4,
   "id": "75813f7f",
   "metadata": {},
   "outputs": [
    {
     "name": "stderr",
     "output_type": "stream",
     "text": [
      "                                                                                \r"
     ]
    }
   ],
   "source": [
    "df_aisles = spark.read.option(\"header\", True).option(\"inferSchema\", True).csv(\"/bronze/dshop/aisles\")\n",
    "df_clients = spark.read.option(\"header\", True).option(\"inferSchema\", True).csv(\"/bronze/dshop/clients\")\n",
    "df_departments = spark.read.option(\"header\", True).option(\"inferSchema\", True).csv(\"/bronze/dshop/departments\")\n",
    "df_orders = spark.read.option(\"header\", True).option(\"inferSchema\", True).csv(\"/bronze/dshop/orders\")\n",
    "df_products = spark.read.option(\"header\", True).option(\"inferSchema\", True).csv(\"/bronze/dshop/products\")"
   ]
  },
  {
   "cell_type": "code",
   "execution_count": 5,
   "id": "c2ea29b7",
   "metadata": {},
   "outputs": [
    {
     "name": "stdout",
     "output_type": "stream",
     "text": [
      "+--------+--------------------+\n",
      "|aisle_id|               aisle|\n",
      "+--------+--------------------+\n",
      "|       1|prepared soups sa...|\n",
      "|       2|   specialty cheeses|\n",
      "|       3| energy granola bars|\n",
      "|       4|       instant foods|\n",
      "|       5|marinades meat pr...|\n",
      "|       6|               other|\n",
      "|       7|       packaged meat|\n",
      "|       8|     bakery desserts|\n",
      "|       9|         pasta sauce|\n",
      "|      10|    kitchen supplies|\n",
      "|      11|    cold flu allergy|\n",
      "|      12|         fresh pasta|\n",
      "|      13|      prepared meals|\n",
      "|      14|tofu meat alterna...|\n",
      "|      15|    packaged seafood|\n",
      "|      16|         fresh herbs|\n",
      "|      17|  baking ingredients|\n",
      "|      18|bulk dried fruits...|\n",
      "|      19|       oils vinegars|\n",
      "|      20|        oral hygiene|\n",
      "+--------+--------------------+\n",
      "only showing top 20 rows\n",
      "\n"
     ]
    }
   ],
   "source": [
    "df_aisles.show()"
   ]
  },
  {
   "cell_type": "code",
   "execution_count": 6,
   "id": "746571a7",
   "metadata": {},
   "outputs": [
    {
     "name": "stdout",
     "output_type": "stream",
     "text": [
      "+---------+---------------+----------------+\n",
      "|client_id|       fullname|location_area_id|\n",
      "+---------+---------------+----------------+\n",
      "|        1| Anthony Reilly|               2|\n",
      "|        2|Christina Boyle|               2|\n",
      "|        3|  Andrew Walker|               1|\n",
      "|        4|Emily Rodriguez|               3|\n",
      "|        5|    Glen Travis|               2|\n",
      "|        6|     Adam Mayer|               8|\n",
      "|        7|  Lydia Griffin|               6|\n",
      "|        8|     Marcus Cox|               3|\n",
      "|        9|   Sean Johnson|               6|\n",
      "|       10|    Joel Mullen|               1|\n",
      "|       11|   Laurie Brown|               3|\n",
      "|       12|  Kevin Johnson|               7|\n",
      "|       13|    Paula Lopez|               3|\n",
      "|       14|Michelle Hodges|               1|\n",
      "|       15|   Jerome Russo|               6|\n",
      "|       16|Jonathon Porter|               2|\n",
      "|       17| Andrew Jackson|               2|\n",
      "|       18|   Emma Jackson|               7|\n",
      "|       19|     Pam Wilson|               4|\n",
      "|       20| Andrea Sanders|               7|\n",
      "+---------+---------------+----------------+\n",
      "only showing top 20 rows\n",
      "\n"
     ]
    }
   ],
   "source": [
    "df_clients.show()"
   ]
  },
  {
   "cell_type": "code",
   "execution_count": 7,
   "id": "858ca9d9",
   "metadata": {},
   "outputs": [
    {
     "name": "stdout",
     "output_type": "stream",
     "text": [
      "+-------------+---------------+\n",
      "|department_id|     department|\n",
      "+-------------+---------------+\n",
      "|            1|         frozen|\n",
      "|            2|          other|\n",
      "|            3|         bakery|\n",
      "|            4|        produce|\n",
      "|            5|        alcohol|\n",
      "|            6|  international|\n",
      "|            7|      beverages|\n",
      "|            8|           pets|\n",
      "|            9|dry goods pasta|\n",
      "|           10|           bulk|\n",
      "|           11|  personal care|\n",
      "|           12|   meat seafood|\n",
      "|           13|         pantry|\n",
      "|           14|      breakfast|\n",
      "|           15|   canned goods|\n",
      "|           16|     dairy eggs|\n",
      "|           17|      household|\n",
      "|           18|         babies|\n",
      "|           19|         snacks|\n",
      "|           20|           deli|\n",
      "+-------------+---------------+\n",
      "only showing top 20 rows\n",
      "\n"
     ]
    }
   ],
   "source": [
    "df_departments.show()"
   ]
  },
  {
   "cell_type": "code",
   "execution_count": 8,
   "id": "1222fb6d",
   "metadata": {},
   "outputs": [
    {
     "name": "stdout",
     "output_type": "stream",
     "text": [
      "+--------+----------+---------+--------+--------+----------+\n",
      "|order_id|product_id|client_id|store_id|quantity|order_date|\n",
      "+--------+----------+---------+--------+--------+----------+\n",
      "|       1|     13049|      835|      26|       6|2021-01-01|\n",
      "|       1|     40200|      835|      26|       3|2021-01-01|\n",
      "|       1|     31576|      835|      26|       1|2021-01-01|\n",
      "|       1|     39380|      835|      26|       4|2021-01-01|\n",
      "|       1|     14430|      835|      26|       3|2021-01-01|\n",
      "|       1|     24859|      835|      26|       3|2021-01-01|\n",
      "|       1|     12849|      835|      26|       3|2021-01-01|\n",
      "|       1|      1034|      835|      26|       2|2021-01-01|\n",
      "|       1|     37554|      835|      26|       5|2021-01-01|\n",
      "|       1|     16264|      835|      26|       5|2021-01-01|\n",
      "|       1|     14280|      835|      26|       6|2021-01-01|\n",
      "|       1|     13389|      835|      26|       2|2021-01-01|\n",
      "|       1|     25695|      835|      26|       4|2021-01-01|\n",
      "|       1|     23323|      835|      26|       1|2021-01-01|\n",
      "|       1|       648|      835|      26|       3|2021-01-01|\n",
      "|       1|     34739|      835|      26|       3|2021-01-01|\n",
      "|       1|     19894|      835|      26|       4|2021-01-01|\n",
      "|       1|     29490|      835|      26|       6|2021-01-01|\n",
      "|       1|     35524|      835|      26|       3|2021-01-01|\n",
      "|       1|     17298|      835|      26|       2|2021-01-01|\n",
      "+--------+----------+---------+--------+--------+----------+\n",
      "only showing top 20 rows\n",
      "\n"
     ]
    }
   ],
   "source": [
    "df_orders.show()"
   ]
  },
  {
   "cell_type": "code",
   "execution_count": 9,
   "id": "fe0b9418",
   "metadata": {},
   "outputs": [
    {
     "name": "stdout",
     "output_type": "stream",
     "text": [
      "+----------+--------------------+--------+-------------+\n",
      "|product_id|        product_name|aisle_id|department_id|\n",
      "+----------+--------------------+--------+-------------+\n",
      "|         1|Chocolate Sandwic...|      61|           19|\n",
      "|         2|    All-Seasons Salt|     104|           13|\n",
      "|         3|Robust Golden Uns...|      94|            7|\n",
      "|         4|Smart Ones Classi...|      38|            1|\n",
      "|         5|Green Chile Anyti...|       5|           13|\n",
      "|         6|        Dry Nose Oil|      11|           11|\n",
      "|         7|Pure Coconut Wate...|      98|            7|\n",
      "|         8|Cut Russet Potato...|     116|            1|\n",
      "|         9|Light Strawberry ...|     120|           16|\n",
      "|        10|Sparkling Orange ...|     115|            7|\n",
      "|        11|   Peach Mango Juice|      31|            7|\n",
      "|        12|Chocolate Fudge L...|     119|            1|\n",
      "|        13|   Saline Nasal Mist|      11|           11|\n",
      "|        14|Fresh Scent Dishw...|      74|           17|\n",
      "|        15|Overnight Diapers...|      56|           18|\n",
      "|        16|Mint Chocolate Fl...|     103|           19|\n",
      "|        17|   Rendered Duck Fat|      35|           12|\n",
      "|        18|Pizza for One Sup...|      79|            1|\n",
      "|        19|Gluten Free Quino...|      63|            9|\n",
      "|        20|Pomegranate Cranb...|      98|            7|\n",
      "+----------+--------------------+--------+-------------+\n",
      "only showing top 20 rows\n",
      "\n"
     ]
    }
   ],
   "source": [
    "df_products.show()"
   ]
  },
  {
   "cell_type": "code",
   "execution_count": 10,
   "id": "ddb875de",
   "metadata": {},
   "outputs": [],
   "source": [
    "df = df_orders"
   ]
  },
  {
   "cell_type": "code",
   "execution_count": 11,
   "id": "656c9ada",
   "metadata": {},
   "outputs": [],
   "source": [
    "df = df.groupby(F.col(\"order_id\"), F.col(\"product_id\"), F.col(\"client_id\"), F.col(\"store_id\"), F.col(\"order_date\"))\\\n",
    "        .agg(F.sum(F.col('quantity')))\\\n",
    "        .select(F.col(\"order_id\"), F.col(\"product_id\"), F.col(\"client_id\"), F.col(\"store_id\"), F.col(\"order_date\"), F.col('sum(quantity)').alias('quantity'))"
   ]
  },
  {
   "cell_type": "code",
   "execution_count": 12,
   "id": "4aaa125e",
   "metadata": {},
   "outputs": [
    {
     "name": "stderr",
     "output_type": "stream",
     "text": [
      "\r",
      "[Stage 15:>                                                         (0 + 1) / 1]\r"
     ]
    },
    {
     "name": "stdout",
     "output_type": "stream",
     "text": [
      "+--------+----------+---------+--------+----------+--------+\n",
      "|order_id|product_id|client_id|store_id|order_date|quantity|\n",
      "+--------+----------+---------+--------+----------+--------+\n",
      "|      15|      1541|      128|      19|2021-01-01|       6|\n",
      "|      18|     43872|     1079|      10|2021-01-01|       4|\n",
      "|      27|     21609|     1322|      11|2021-01-01|       2|\n",
      "|      31|     12692|      207|      21|2021-01-01|       6|\n",
      "|      36|     33106|      196|      17|2021-01-01|       2|\n",
      "|      43|     14608|     1292|      21|2021-01-01|       1|\n",
      "|      55|     13853|      219|       6|2021-01-01|       2|\n",
      "|      70|     29081|      195|       1|2021-01-01|       6|\n",
      "|      75|     42484|      371|      31|2021-01-01|       3|\n",
      "|      93|     18933|     1200|      31|2021-01-01|       1|\n",
      "|      99|     32150|      201|       7|2021-01-01|       4|\n",
      "|     114|     43106|      494|       9|2021-01-01|       1|\n",
      "|     133|      7141|      317|       1|2021-01-01|       2|\n",
      "|     158|     22591|      148|      29|2021-01-01|       3|\n",
      "|     159|     30435|     1182|       7|2021-01-01|       5|\n",
      "|     162|     44282|      564|      10|2021-01-01|       2|\n",
      "|     170|     37783|     1334|      31|2021-01-01|       2|\n",
      "|     177|     18569|     1148|      28|2021-01-01|       3|\n",
      "|     192|     36499|      790|      15|2021-01-01|       5|\n",
      "|     202|       159|      277|      15|2021-01-01|       3|\n",
      "+--------+----------+---------+--------+----------+--------+\n",
      "only showing top 20 rows\n",
      "\n"
     ]
    },
    {
     "name": "stderr",
     "output_type": "stream",
     "text": [
      "\r",
      "                                                                                \r"
     ]
    }
   ],
   "source": [
    "df.show()"
   ]
  },
  {
   "cell_type": "code",
   "execution_count": 13,
   "id": "38c81675",
   "metadata": {},
   "outputs": [
    {
     "name": "stderr",
     "output_type": "stream",
     "text": [
      "[Stage 18:=============================================>        (168 + 2) / 200]\r"
     ]
    },
    {
     "name": "stdout",
     "output_type": "stream",
     "text": [
      "+--------+----------+---------+--------+----------+--------+\n",
      "|order_id|product_id|client_id|store_id|order_date|quantity|\n",
      "+--------+----------+---------+--------+----------+--------+\n",
      "|    4173|      9371|       38|       3|2021-01-17|      11|\n",
      "+--------+----------+---------+--------+----------+--------+\n",
      "\n"
     ]
    },
    {
     "name": "stderr",
     "output_type": "stream",
     "text": [
      "\r",
      "[Stage 18:====================================================> (193 + 1) / 200]\r",
      "\r",
      "                                                                                \r"
     ]
    }
   ],
   "source": [
    "df.where((df.order_id == 4173) & (df.product_id == 9371)).sort('product_id').show()"
   ]
  },
  {
   "cell_type": "code",
   "execution_count": 14,
   "id": "a4ae491e",
   "metadata": {},
   "outputs": [],
   "source": [
    "df_silver_aisles = spark.read.parquet(\"/silver/dshop/aisles\")\n",
    "df_silver_clients = spark.read.parquet(\"/silver/dshop/clients\")\n",
    "df_silver_departments = spark.read.parquet(\"/silver/dshop/departments\")\n",
    "df_silver_orders = spark.read.parquet(\"/silver/dshop/orders\")\n",
    "df_silver_products = spark.read.parquet(\"/silver/dshop/products\")"
   ]
  },
  {
   "cell_type": "code",
   "execution_count": 15,
   "id": "c5081f7c",
   "metadata": {},
   "outputs": [
    {
     "name": "stdout",
     "output_type": "stream",
     "text": [
      "+--------+--------------------+\n",
      "|aisle_id|               aisle|\n",
      "+--------+--------------------+\n",
      "|       1|prepared soups sa...|\n",
      "|       2|   specialty cheeses|\n",
      "|       3| energy granola bars|\n",
      "|       4|       instant foods|\n",
      "|       5|marinades meat pr...|\n",
      "|       6|               other|\n",
      "|       7|       packaged meat|\n",
      "|       8|     bakery desserts|\n",
      "|       9|         pasta sauce|\n",
      "|      10|    kitchen supplies|\n",
      "|      11|    cold flu allergy|\n",
      "|      12|         fresh pasta|\n",
      "|      13|      prepared meals|\n",
      "|      14|tofu meat alterna...|\n",
      "|      15|    packaged seafood|\n",
      "|      16|         fresh herbs|\n",
      "|      17|  baking ingredients|\n",
      "|      18|bulk dried fruits...|\n",
      "|      19|       oils vinegars|\n",
      "|      20|        oral hygiene|\n",
      "+--------+--------------------+\n",
      "only showing top 20 rows\n",
      "\n"
     ]
    }
   ],
   "source": [
    "df_silver_aisles.show()"
   ]
  },
  {
   "cell_type": "code",
   "execution_count": 16,
   "id": "3bcbb221",
   "metadata": {},
   "outputs": [
    {
     "name": "stdout",
     "output_type": "stream",
     "text": [
      "+---------+---------------+----------------+\n",
      "|client_id|       fullname|location_area_id|\n",
      "+---------+---------------+----------------+\n",
      "|        1| Anthony Reilly|               2|\n",
      "|        2|Christina Boyle|               2|\n",
      "|        3|  Andrew Walker|               1|\n",
      "|        4|Emily Rodriguez|               3|\n",
      "|        5|    Glen Travis|               2|\n",
      "|        6|     Adam Mayer|               8|\n",
      "|        7|  Lydia Griffin|               6|\n",
      "|        8|     Marcus Cox|               3|\n",
      "|        9|   Sean Johnson|               6|\n",
      "|       10|    Joel Mullen|               1|\n",
      "|       11|   Laurie Brown|               3|\n",
      "|       12|  Kevin Johnson|               7|\n",
      "|       13|    Paula Lopez|               3|\n",
      "|       14|Michelle Hodges|               1|\n",
      "|       15|   Jerome Russo|               6|\n",
      "|       16|Jonathon Porter|               2|\n",
      "|       17| Andrew Jackson|               2|\n",
      "|       18|   Emma Jackson|               7|\n",
      "|       19|     Pam Wilson|               4|\n",
      "|       20| Andrea Sanders|               7|\n",
      "+---------+---------------+----------------+\n",
      "only showing top 20 rows\n",
      "\n"
     ]
    }
   ],
   "source": [
    "df_silver_clients.show()"
   ]
  },
  {
   "cell_type": "code",
   "execution_count": 17,
   "id": "79b472ef",
   "metadata": {},
   "outputs": [
    {
     "name": "stdout",
     "output_type": "stream",
     "text": [
      "+-------------+---------------+\n",
      "|department_id|     department|\n",
      "+-------------+---------------+\n",
      "|            1|         frozen|\n",
      "|            2|          other|\n",
      "|            3|         bakery|\n",
      "|            4|        produce|\n",
      "|            5|        alcohol|\n",
      "|            6|  international|\n",
      "|            7|      beverages|\n",
      "|            8|           pets|\n",
      "|            9|dry goods pasta|\n",
      "|           10|           bulk|\n",
      "|           11|  personal care|\n",
      "|           12|   meat seafood|\n",
      "|           13|         pantry|\n",
      "|           14|      breakfast|\n",
      "|           15|   canned goods|\n",
      "|           16|     dairy eggs|\n",
      "|           17|      household|\n",
      "|           18|         babies|\n",
      "|           19|         snacks|\n",
      "|           20|           deli|\n",
      "+-------------+---------------+\n",
      "only showing top 20 rows\n",
      "\n"
     ]
    }
   ],
   "source": [
    "df_silver_departments.show()"
   ]
  },
  {
   "cell_type": "code",
   "execution_count": 18,
   "id": "a82e1d4d",
   "metadata": {},
   "outputs": [
    {
     "name": "stdout",
     "output_type": "stream",
     "text": [
      "+--------+----------+---------+--------+----------+--------+\n",
      "|order_id|product_id|client_id|store_id|order_date|quantity|\n",
      "+--------+----------+---------+--------+----------+--------+\n",
      "|       4|     36483|     1032|      15|2021-01-01|       4|\n",
      "|      11|     11241|     1189|       8|2021-01-01|       6|\n",
      "|      12|     28491|      977|      19|2021-01-01|       3|\n",
      "|      15|     46958|      128|      19|2021-01-01|       5|\n",
      "|      17|     27577|      569|       1|2021-01-01|       4|\n",
      "|      40|     30301|      200|      16|2021-01-01|       1|\n",
      "|      61|     36424|      823|       5|2021-01-01|       6|\n",
      "|      67|     35372|      782|      10|2021-01-01|       3|\n",
      "|      81|     41303|     1350|      15|2021-01-01|       5|\n",
      "|      81|      7584|     1350|      15|2021-01-01|       6|\n",
      "|      82|     23640|     1239|      24|2021-01-01|       6|\n",
      "|      86|     31380|      531|      30|2021-01-01|       5|\n",
      "|      89|       100|       46|      32|2021-01-01|       2|\n",
      "|     119|      6457|     1181|      14|2021-01-01|       1|\n",
      "|     123|     28948|      907|      10|2021-01-01|       4|\n",
      "|     124|     47008|      932|      12|2021-01-01|       6|\n",
      "|     127|     39691|     1240|      22|2021-01-01|       5|\n",
      "|     134|     20316|      975|       9|2021-01-01|       5|\n",
      "|     142|     30883|      695|      21|2021-01-01|       1|\n",
      "|     144|     23103|      534|      21|2021-01-01|       6|\n",
      "+--------+----------+---------+--------+----------+--------+\n",
      "only showing top 20 rows\n",
      "\n"
     ]
    }
   ],
   "source": [
    "df_silver_orders.show()"
   ]
  },
  {
   "cell_type": "code",
   "execution_count": 19,
   "id": "3f5ead42",
   "metadata": {},
   "outputs": [
    {
     "name": "stdout",
     "output_type": "stream",
     "text": [
      "+----------+--------------------+--------+-------------+\n",
      "|product_id|        product_name|aisle_id|department_id|\n",
      "+----------+--------------------+--------+-------------+\n",
      "|         1|Chocolate Sandwic...|      61|           19|\n",
      "|         2|    All-Seasons Salt|     104|           13|\n",
      "|         3|Robust Golden Uns...|      94|            7|\n",
      "|         4|Smart Ones Classi...|      38|            1|\n",
      "|         5|Green Chile Anyti...|       5|           13|\n",
      "|         6|        Dry Nose Oil|      11|           11|\n",
      "|         7|Pure Coconut Wate...|      98|            7|\n",
      "|         8|Cut Russet Potato...|     116|            1|\n",
      "|         9|Light Strawberry ...|     120|           16|\n",
      "|        10|Sparkling Orange ...|     115|            7|\n",
      "|        11|   Peach Mango Juice|      31|            7|\n",
      "|        12|Chocolate Fudge L...|     119|            1|\n",
      "|        13|   Saline Nasal Mist|      11|           11|\n",
      "|        14|Fresh Scent Dishw...|      74|           17|\n",
      "|        15|Overnight Diapers...|      56|           18|\n",
      "|        16|Mint Chocolate Fl...|     103|           19|\n",
      "|        17|   Rendered Duck Fat|      35|           12|\n",
      "|        18|Pizza for One Sup...|      79|            1|\n",
      "|        19|Gluten Free Quino...|      63|            9|\n",
      "|        20|Pomegranate Cranb...|      98|            7|\n",
      "+----------+--------------------+--------+-------------+\n",
      "only showing top 20 rows\n",
      "\n"
     ]
    }
   ],
   "source": [
    "df_silver_products.show()"
   ]
  },
  {
   "cell_type": "code",
   "execution_count": 20,
   "id": "991d1c19",
   "metadata": {},
   "outputs": [
    {
     "name": "stdout",
     "output_type": "stream",
     "text": [
      "+----------+--------------------+--------+-------------+\n",
      "|product_id|        product_name|aisle_id|department_id|\n",
      "+----------+--------------------+--------+-------------+\n",
      "|         1|Chocolate Sandwic...|      61|           19|\n",
      "|         2|    All-Seasons Salt|     104|           13|\n",
      "|         3|Robust Golden Uns...|      94|            7|\n",
      "|         4|Smart Ones Classi...|      38|            1|\n",
      "|         5|Green Chile Anyti...|       5|           13|\n",
      "|         6|        Dry Nose Oil|      11|           11|\n",
      "|         7|Pure Coconut Wate...|      98|            7|\n",
      "|         8|Cut Russet Potato...|     116|            1|\n",
      "|         9|Light Strawberry ...|     120|           16|\n",
      "|        10|Sparkling Orange ...|     115|            7|\n",
      "|        11|   Peach Mango Juice|      31|            7|\n",
      "|        12|Chocolate Fudge L...|     119|            1|\n",
      "|        13|   Saline Nasal Mist|      11|           11|\n",
      "|        14|Fresh Scent Dishw...|      74|           17|\n",
      "|        15|Overnight Diapers...|      56|           18|\n",
      "|        16|Mint Chocolate Fl...|     103|           19|\n",
      "|        17|   Rendered Duck Fat|      35|           12|\n",
      "|        18|Pizza for One Sup...|      79|            1|\n",
      "|        19|Gluten Free Quino...|      63|            9|\n",
      "|        20|Pomegranate Cranb...|      98|            7|\n",
      "+----------+--------------------+--------+-------------+\n",
      "only showing top 20 rows\n",
      "\n"
     ]
    }
   ],
   "source": [
    "df_silver_products.show()"
   ]
  },
  {
   "cell_type": "code",
   "execution_count": 21,
   "id": "3018714a",
   "metadata": {},
   "outputs": [
    {
     "name": "stderr",
     "output_type": "stream",
     "text": [
      "                                                                                \r"
     ]
    },
    {
     "name": "stdout",
     "output_type": "stream",
     "text": [
      "+--------+----------+---------+--------+----------+--------+\n",
      "|order_id|product_id|client_id|store_id|order_date|quantity|\n",
      "+--------+----------+---------+--------+----------+--------+\n",
      "|    4173|      9371|       38|       3|2021-01-17|      11|\n",
      "+--------+----------+---------+--------+----------+--------+\n",
      "\n"
     ]
    },
    {
     "name": "stderr",
     "output_type": "stream",
     "text": [
      "\r",
      "[Stage 32:=============================>                            (1 + 1) / 2]\r",
      "\r",
      "                                                                                \r"
     ]
    }
   ],
   "source": [
    "df_silver_orders.where((df_silver_orders.order_id == 4173) & (df_silver_orders.product_id == 9371)).show()"
   ]
  },
  {
   "cell_type": "code",
   "execution_count": 22,
   "id": "665a4c4d",
   "metadata": {},
   "outputs": [],
   "source": [
    "json_schema = StructType()\\\n",
    "    .add('date', StringType())\\\n",
    "    .add('product_id', LongType())"
   ]
  },
  {
   "cell_type": "code",
   "execution_count": 23,
   "id": "cd6433de",
   "metadata": {},
   "outputs": [],
   "source": [
    "df_out_of_stock_app = spark.read.schema(json_schema).json(\"/bronze/out_of_stock_app/*/*/*\")"
   ]
  },
  {
   "cell_type": "code",
   "execution_count": 24,
   "id": "963c4bea",
   "metadata": {},
   "outputs": [
    {
     "name": "stdout",
     "output_type": "stream",
     "text": [
      "+----------+----------+\n",
      "|      date|product_id|\n",
      "+----------+----------+\n",
      "|2021-04-05|     33204|\n",
      "|2021-04-05|     26105|\n",
      "|2021-04-05|     30030|\n",
      "|2021-04-05|      2230|\n",
      "|2021-04-05|     22527|\n",
      "|2021-04-05|     29338|\n",
      "|2021-04-05|     35862|\n",
      "|2021-04-05|     32281|\n",
      "|2021-04-05|     40513|\n",
      "|2021-04-05|      3444|\n",
      "|2021-04-05|     32447|\n",
      "|2021-04-05|      6640|\n",
      "|2021-04-05|     17967|\n",
      "|2021-04-05|     25008|\n",
      "|2021-04-05|     20359|\n",
      "|2021-04-05|     37231|\n",
      "|2021-04-05|     15073|\n",
      "|2021-04-05|      1299|\n",
      "|2021-04-05|     40349|\n",
      "|2021-04-05|      6212|\n",
      "+----------+----------+\n",
      "only showing top 20 rows\n",
      "\n"
     ]
    }
   ],
   "source": [
    "df_out_of_stock_app.show()"
   ]
  },
  {
   "cell_type": "code",
   "execution_count": 25,
   "id": "65e8fc95",
   "metadata": {},
   "outputs": [
    {
     "name": "stderr",
     "output_type": "stream",
     "text": [
      "[Stage 35:===========================================>          (162 + 1) / 200]\r"
     ]
    },
    {
     "name": "stdout",
     "output_type": "stream",
     "text": [
      "+----------+-----+\n",
      "|      date|count|\n",
      "+----------+-----+\n",
      "|2021-04-01| 2084|\n",
      "|2021-04-02| 2283|\n",
      "|2021-04-03| 1660|\n",
      "|2021-04-04| 2232|\n",
      "|2021-04-05| 2741|\n",
      "+----------+-----+\n",
      "\n"
     ]
    },
    {
     "name": "stderr",
     "output_type": "stream",
     "text": [
      "\r",
      "[Stage 35:====================================================> (193 + 1) / 200]\r",
      "\r",
      "                                                                                \r"
     ]
    }
   ],
   "source": [
    "df_out_of_stock_app.groupby('date').count().sort('date').show()"
   ]
  },
  {
   "cell_type": "code",
   "execution_count": 27,
   "id": "abf5d50f",
   "metadata": {},
   "outputs": [],
   "source": [
    "df_silver_out_of_stock_app = spark.read.parquet(\"/silver/out_of_stock_app/\")"
   ]
  },
  {
   "cell_type": "code",
   "execution_count": 28,
   "id": "70273ce8",
   "metadata": {},
   "outputs": [
    {
     "name": "stdout",
     "output_type": "stream",
     "text": [
      "+----------+----------+\n",
      "|      date|product_id|\n",
      "+----------+----------+\n",
      "|2021-04-05|      2230|\n",
      "|2021-04-05|     41222|\n",
      "|2021-04-05|        27|\n",
      "|2021-04-05|     10408|\n",
      "|2021-04-05|     35104|\n",
      "|2021-04-05|     16333|\n",
      "|2021-04-05|     23488|\n",
      "|2021-04-05|     14724|\n",
      "|2021-04-05|     27289|\n",
      "|2021-04-05|     35627|\n",
      "|2021-04-05|      5447|\n",
      "|2021-04-05|     33880|\n",
      "|2021-04-05|     26304|\n",
      "|2021-04-05|     48976|\n",
      "|2021-04-05|     12116|\n",
      "|2021-04-05|     40804|\n",
      "|2021-04-05|     16157|\n",
      "|2021-04-05|     35437|\n",
      "|2021-04-05|     24952|\n",
      "|2021-04-05|     20849|\n",
      "+----------+----------+\n",
      "only showing top 20 rows\n",
      "\n"
     ]
    }
   ],
   "source": [
    "df_silver_out_of_stock_app.show()"
   ]
  },
  {
   "cell_type": "code",
   "execution_count": 29,
   "id": "965c889d",
   "metadata": {},
   "outputs": [
    {
     "name": "stderr",
     "output_type": "stream",
     "text": [
      "[Stage 40:=======================================>              (146 + 2) / 200]\r"
     ]
    },
    {
     "name": "stdout",
     "output_type": "stream",
     "text": [
      "+----------+-----+\n",
      "|      date|count|\n",
      "+----------+-----+\n",
      "|2021-04-01| 2036|\n",
      "|2021-04-02| 2229|\n",
      "|2021-04-03| 1633|\n",
      "|2021-04-04| 2177|\n",
      "|2021-04-05| 2680|\n",
      "+----------+-----+\n",
      "\n"
     ]
    },
    {
     "name": "stderr",
     "output_type": "stream",
     "text": [
      "\r",
      "[Stage 40:=================================================>    (182 + 2) / 200]\r",
      "\r",
      "                                                                                \r"
     ]
    }
   ],
   "source": [
    "df_silver_out_of_stock_app.groupby('date').count().sort('date').show()"
   ]
  },
  {
   "cell_type": "code",
   "execution_count": null,
   "id": "8cc15f41",
   "metadata": {},
   "outputs": [],
   "source": []
  }
 ],
 "metadata": {
  "kernelspec": {
   "display_name": "Python 3 (ipykernel)",
   "language": "python",
   "name": "python3"
  },
  "language_info": {
   "codemirror_mode": {
    "name": "ipython",
    "version": 3
   },
   "file_extension": ".py",
   "mimetype": "text/x-python",
   "name": "python",
   "nbconvert_exporter": "python",
   "pygments_lexer": "ipython3",
   "version": "3.8.8"
  }
 },
 "nbformat": 4,
 "nbformat_minor": 5
}
