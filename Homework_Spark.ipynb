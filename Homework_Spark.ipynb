{
 "cells": [
  {
   "cell_type": "code",
   "execution_count": 1,
   "id": "e336c6ea",
   "metadata": {},
   "outputs": [],
   "source": [
    "from pyspark.sql import SparkSession\n",
    "from pyspark.sql.functions import asc, desc, concat, col, lit, unix_timestamp, row_number, rank\n",
    "from pyspark.sql.functions import sum as fsum\n",
    "from pyspark.sql.functions import count as fcount\n",
    "from pyspark.sql.window import Window"
   ]
  },
  {
   "cell_type": "code",
   "execution_count": 2,
   "id": "cabd84fe",
   "metadata": {},
   "outputs": [
    {
     "name": "stderr",
     "output_type": "stream",
     "text": [
      "Setting default log level to \"WARN\".\n",
      "To adjust logging level use sc.setLogLevel(newLevel). For SparkR, use setLogLevel(newLevel).\n"
     ]
    }
   ],
   "source": [
    "spark = SparkSession.builder\\\n",
    "    .config('spark.driver.extraClassPath'\n",
    "            , '/home/user/shared/postgresql-42.3.1.jar')\\\n",
    "    .master('local')\\\n",
    "    .appName('homework_lesson_13')\\\n",
    "    .getOrCreate()"
   ]
  },
  {
   "cell_type": "code",
   "execution_count": 3,
   "id": "61a96691",
   "metadata": {},
   "outputs": [
    {
     "data": {
      "text/html": [
       "\n",
       "            <div>\n",
       "                <p><b>SparkSession - in-memory</b></p>\n",
       "                \n",
       "        <div>\n",
       "            <p><b>SparkContext</b></p>\n",
       "\n",
       "            <p><a href=\"http://0.0.0.0:4040\">Spark UI</a></p>\n",
       "\n",
       "            <dl>\n",
       "              <dt>Version</dt>\n",
       "                <dd><code>v3.1.1</code></dd>\n",
       "              <dt>Master</dt>\n",
       "                <dd><code>local</code></dd>\n",
       "              <dt>AppName</dt>\n",
       "                <dd><code>homework_lesson_13</code></dd>\n",
       "            </dl>\n",
       "        </div>\n",
       "        \n",
       "            </div>\n",
       "        "
      ],
      "text/plain": [
       "<pyspark.sql.session.SparkSession at 0x7fa36013ef70>"
      ]
     },
     "execution_count": 3,
     "metadata": {},
     "output_type": "execute_result"
    }
   ],
   "source": [
    "spark"
   ]
  },
  {
   "cell_type": "code",
   "execution_count": 4,
   "id": "6836a292",
   "metadata": {},
   "outputs": [],
   "source": [
    "pg_url = 'jdbc:postgresql://127.0.0.1/postgres'\n",
    "pg_creds = {'user' : 'pguser', 'password' : 'secret'}"
   ]
  },
  {
   "cell_type": "code",
   "execution_count": 5,
   "id": "8595e903",
   "metadata": {},
   "outputs": [],
   "source": [
    "df_category = spark.read.jdbc(pg_url, table='category', properties=pg_creds)\n",
    "df_film_category = spark.read.jdbc(pg_url, table='film_category', properties=pg_creds)\n",
    "df_actor = spark.read.jdbc(pg_url, table='actor', properties=pg_creds)\n",
    "df_film_actor = spark.read.jdbc(pg_url, table='film_actor', properties=pg_creds)\n",
    "df_inventory = spark.read.jdbc(pg_url, table='inventory', properties=pg_creds)\n",
    "df_rental = spark.read.jdbc(pg_url, table='rental', properties=pg_creds)\n",
    "df_payment = spark.read.jdbc(pg_url, table='payment', properties=pg_creds)\n",
    "df_film = spark.read.jdbc(pg_url, table='film', properties=pg_creds)\n",
    "df_city = spark.read.jdbc(pg_url, table='city', properties=pg_creds)\n",
    "df_address = spark.read.jdbc(pg_url, table='address', properties=pg_creds)\n",
    "df_customer = spark.read.jdbc(pg_url, table='customer', properties=pg_creds)"
   ]
  },
  {
   "cell_type": "code",
   "execution_count": 6,
   "id": "8f6a7072",
   "metadata": {},
   "outputs": [],
   "source": [
    "#1. вывести количество фильмов в каждой категории, отсортировать по убыванию."
   ]
  },
  {
   "cell_type": "code",
   "execution_count": 7,
   "id": "7c65c53f",
   "metadata": {},
   "outputs": [],
   "source": [
    "df1 = df_category.join(df_film_category\n",
    "                 , df_film_category.category_id == df_category.category_id\n",
    "                 , 'inner')\\\n",
    "    .groupby(df_category.name)\\\n",
    "    .count()\\\n",
    "    .withColumnRenamed(\"name\", \"category\")\\\n",
    "    .withColumnRenamed(\"count\", \"films_qauntity\")"
   ]
  },
  {
   "cell_type": "code",
   "execution_count": 8,
   "id": "1bbbe16e",
   "metadata": {},
   "outputs": [
    {
     "name": "stderr",
     "output_type": "stream",
     "text": [
      "[Stage 3:======================================================>(199 + 1) / 200]\r"
     ]
    },
    {
     "name": "stdout",
     "output_type": "stream",
     "text": [
      "+-----------+--------------+\n",
      "|   category|films_qauntity|\n",
      "+-----------+--------------+\n",
      "|     Sports|            74|\n",
      "|    Foreign|            73|\n",
      "|     Family|            69|\n",
      "|Documentary|            68|\n",
      "|  Animation|            66|\n",
      "|     Action|            64|\n",
      "|        New|            63|\n",
      "|      Drama|            62|\n",
      "|     Sci-Fi|            61|\n",
      "|      Games|            61|\n",
      "|   Children|            60|\n",
      "|     Comedy|            58|\n",
      "|     Travel|            57|\n",
      "|   Classics|            57|\n",
      "|     Horror|            56|\n",
      "|      Music|            51|\n",
      "+-----------+--------------+\n",
      "\n"
     ]
    },
    {
     "name": "stderr",
     "output_type": "stream",
     "text": [
      "\r",
      "                                                                                \r"
     ]
    }
   ],
   "source": [
    "df1.orderBy(desc('films_qauntity')).select(df1.category, df1.films_qauntity).show()"
   ]
  },
  {
   "cell_type": "code",
   "execution_count": 9,
   "id": "32cf517f",
   "metadata": {},
   "outputs": [],
   "source": [
    "#2. вывести 10 актеров, чьи фильмы большего всего арендовали, отсортировать по убыванию."
   ]
  },
  {
   "cell_type": "code",
   "execution_count": 10,
   "id": "288f8d43",
   "metadata": {},
   "outputs": [
    {
     "name": "stderr",
     "output_type": "stream",
     "text": [
      "[Stage 11:=============================================>        (170 + 1) / 200]\r"
     ]
    },
    {
     "name": "stdout",
     "output_type": "stream",
     "text": [
      "+------------------+\n",
      "|             actor|\n",
      "+------------------+\n",
      "|       SUSAN DAVIS|\n",
      "|    GINA DEGENERES|\n",
      "|    MATTHEW CARREY|\n",
      "|       MARY KEITEL|\n",
      "|ANGELA WITHERSPOON|\n",
      "|       WALTER TORN|\n",
      "|       HENRY BERRY|\n",
      "|       JAYNE NOLTE|\n",
      "|        VAL BOLGER|\n",
      "|     SANDRA KILMER|\n",
      "+------------------+\n",
      "only showing top 10 rows\n",
      "\n"
     ]
    },
    {
     "name": "stderr",
     "output_type": "stream",
     "text": [
      "\r",
      "                                                                                \r"
     ]
    }
   ],
   "source": [
    "df_actor.select('actor_id', concat(col('first_name'), lit(' '), col('last_name')).alias('actor'))\\\n",
    "    .join(\n",
    "    df_film_actor\n",
    "    , df_film_actor.actor_id == df_actor.actor_id\n",
    "    , 'inner'\n",
    "    )\\\n",
    "    .join(\n",
    "    df_inventory\n",
    "    , df_inventory.film_id == df_film_actor.film_id\n",
    "    , 'inner'\n",
    "    )\\\n",
    "    .join(\n",
    "    df_rental\n",
    "    , df_rental.inventory_id == df_inventory.inventory_id\n",
    "    , 'inner'\n",
    "    )\\\n",
    "    .select('actor', 'rental_id')\\\n",
    "    .groupby('actor')\\\n",
    "    .count()\\\n",
    "    .orderBy(desc('count'))\\\n",
    "    .select('actor')\\\n",
    "    .show(10)"
   ]
  },
  {
   "cell_type": "code",
   "execution_count": 11,
   "id": "ddb16055",
   "metadata": {},
   "outputs": [],
   "source": [
    "#3. вывести категорию фильмов, на которую потратили больше всего денег."
   ]
  },
  {
   "cell_type": "code",
   "execution_count": 12,
   "id": "073c9be9",
   "metadata": {
    "scrolled": true
   },
   "outputs": [
    {
     "name": "stderr",
     "output_type": "stream",
     "text": [
      "[Stage 21:========================================>             (151 + 1) / 200]\r"
     ]
    },
    {
     "name": "stdout",
     "output_type": "stream",
     "text": [
      "+--------+\n",
      "|category|\n",
      "+--------+\n",
      "|  Sports|\n",
      "+--------+\n",
      "only showing top 1 row\n",
      "\n"
     ]
    },
    {
     "name": "stderr",
     "output_type": "stream",
     "text": [
      "\r",
      "[Stage 21:===================================================>  (192 + 1) / 200]\r",
      "\r",
      "                                                                                \r"
     ]
    }
   ],
   "source": [
    "df_category.join(df_film_category, df_film_category.category_id == df_category.category_id, 'inner')\\\n",
    "    .select(col('name').alias('category'), 'film_id')\\\n",
    "    .join(df_inventory, df_inventory.film_id == df_film_category.film_id, 'inner')\\\n",
    "    .join(df_rental, df_rental.inventory_id == df_inventory.inventory_id, 'inner')\\\n",
    "    .join(df_payment, df_payment.rental_id == df_rental.rental_id, 'inner')\\\n",
    "    .groupBy('category')\\\n",
    "    .sum('amount')\\\n",
    "    .orderBy(desc('sum(amount)'))\\\n",
    "    .select('category')\\\n",
    "    .show(1)"
   ]
  },
  {
   "cell_type": "code",
   "execution_count": 13,
   "id": "381a0a91",
   "metadata": {},
   "outputs": [],
   "source": [
    "#4. вывести названия фильмов, которых нет в inventory. Написать запрос без использования оператора IN."
   ]
  },
  {
   "cell_type": "code",
   "execution_count": 14,
   "id": "4096750c",
   "metadata": {},
   "outputs": [
    {
     "name": "stderr",
     "output_type": "stream",
     "text": [
      "                                                                                \r"
     ]
    },
    {
     "name": "stdout",
     "output_type": "stream",
     "text": [
      "+--------------------+\n",
      "|               title|\n",
      "+--------------------+\n",
      "|       RAINBOW SHOCK|\n",
      "|           GUMP DATE|\n",
      "|         HOCUS FRIDA|\n",
      "|    TREASURE COMMAND|\n",
      "| CHINATOWN GLADIATOR|\n",
      "|        WALLS ARTIST|\n",
      "|      ARGONAUTS TOWN|\n",
      "|       PSYCHO SHRUNK|\n",
      "|   FIREHOUSE VIETNAM|\n",
      "|DELIVERANCE MULHO...|\n",
      "|       ROOF CHAMPION|\n",
      "|        TADPOLE PARK|\n",
      "|         APOLLO TEEN|\n",
      "|       HATE HANDICAP|\n",
      "|       PEARL DESTINY|\n",
      "|COMMANDMENTS EXPRESS|\n",
      "|        VOLUME HOUSE|\n",
      "|     CROWDS TELEMARK|\n",
      "|   RAIDERS ANTITRUST|\n",
      "|    KILL BROTHERHOOD|\n",
      "+--------------------+\n",
      "only showing top 20 rows\n",
      "\n"
     ]
    }
   ],
   "source": [
    "df_film.join(df_inventory, df_inventory.film_id == df_film.film_id, 'leftanti')\\\n",
    "    .groupby('title')\\\n",
    "    .count()\\\n",
    "    .select('title')\\\n",
    "    .show()"
   ]
  },
  {
   "cell_type": "code",
   "execution_count": 15,
   "id": "6e1b7b1f",
   "metadata": {},
   "outputs": [],
   "source": [
    "#5. вывести топ 3 актеров, которые больше всего появлялись в фильмах в категории “Children”. \n",
    "#Если у нескольких актеров одинаковое кол-во фильмов, вывести всех."
   ]
  },
  {
   "cell_type": "code",
   "execution_count": 16,
   "id": "6bc329a5",
   "metadata": {},
   "outputs": [],
   "source": [
    "qw = Window.orderBy(desc(\"count\"))"
   ]
  },
  {
   "cell_type": "code",
   "execution_count": 17,
   "id": "b6628d46",
   "metadata": {},
   "outputs": [
    {
     "name": "stderr",
     "output_type": "stream",
     "text": [
      "21/11/08 19:25:49 WARN window.WindowExec: No Partition Defined for Window operation! Moving all data to a single partition, this can cause serious performance degradation.\n",
      "[Stage 57:============================================>         (165 + 1) / 200]\r"
     ]
    },
    {
     "name": "stdout",
     "output_type": "stream",
     "text": [
      "+-------------+\n",
      "|        actor|\n",
      "+-------------+\n",
      "| HELEN VOIGHT|\n",
      "|  SUSAN DAVIS|\n",
      "|   MARY TANDY|\n",
      "|   RALPH CRUZ|\n",
      "|  WHOOPI HURT|\n",
      "|KEVIN GARLAND|\n",
      "+-------------+\n",
      "\n"
     ]
    },
    {
     "name": "stderr",
     "output_type": "stream",
     "text": [
      "\r",
      "                                                                                \r"
     ]
    }
   ],
   "source": [
    "df_actor.join(df_film_actor, df_film_actor.actor_id == df_actor.actor_id, 'inner')\\\n",
    "    .join(df_film_category, df_film_category.film_id == df_film_actor.film_id, 'inner')\\\n",
    "    .join(df_category, (df_category.category_id == df_film_category.category_id) & (df_category.name == 'Children'), 'inner')\\\n",
    "    .withColumn('actor', concat(col('first_name'), lit(' '), col('last_name')))\\\n",
    "    .groupby('actor')\\\n",
    "    .count()\\\n",
    "    .sort(desc('count'))\\\n",
    "    .withColumn(\"position\", rank().over(qw))\\\n",
    "    .where(col('position') <= 3)\\\n",
    "    .select('actor')\\\n",
    "    .show()"
   ]
  },
  {
   "cell_type": "code",
   "execution_count": 18,
   "id": "62900202",
   "metadata": {},
   "outputs": [],
   "source": [
    "#6. вывести города с количеством активных и неактивных клиентов (активный — customer.active = 1). \n",
    "#Отсортировать по количеству неактивных клиентов по убыванию."
   ]
  },
  {
   "cell_type": "code",
   "execution_count": 19,
   "id": "e83f089e",
   "metadata": {},
   "outputs": [
    {
     "name": "stderr",
     "output_type": "stream",
     "text": [
      "[Stage 65:==============================================>       (173 + 1) / 200]\r"
     ]
    },
    {
     "name": "stdout",
     "output_type": "stream",
     "text": [
      "+----------------+------------------------+--------------------------+\n",
      "|            city|active_customer_quantity|inactive_customer_quantity|\n",
      "+----------------+------------------------+--------------------------+\n",
      "|          Ktahya|                       0|                         1|\n",
      "|Charlotte Amalie|                       0|                         1|\n",
      "|         Wroclaw|                       0|                         1|\n",
      "|       Pingxiang|                       0|                         1|\n",
      "|     Szkesfehrvr|                       0|                         1|\n",
      "|          Daxian|                       0|                         1|\n",
      "|   Coatzacoalcos|                       0|                         1|\n",
      "|         Bat Yam|                       0|                         1|\n",
      "| Southend-on-Sea|                       0|                         1|\n",
      "|        Uluberia|                       0|                         1|\n",
      "|       Najafabad|                       0|                         1|\n",
      "|        Xiangfan|                       0|                         1|\n",
      "|      Kumbakonam|                       0|                         1|\n",
      "|          Kamyin|                       0|                         1|\n",
      "|          Amroha|                       0|                         1|\n",
      "|        Chisinau|                       1|                         0|\n",
      "|         Esfahan|                       1|                         0|\n",
      "|       Mit Ghamr|                       1|                         0|\n",
      "|         Udaipur|                       1|                         0|\n",
      "|  Dhule (Dhulia)|                       1|                         0|\n",
      "+----------------+------------------------+--------------------------+\n",
      "only showing top 20 rows\n",
      "\n"
     ]
    },
    {
     "name": "stderr",
     "output_type": "stream",
     "text": [
      "\r",
      "                                                                                \r"
     ]
    }
   ],
   "source": [
    "df_city.join(df_address, df_address.city_id == df_city.city_id, 'inner')\\\n",
    "    .join(df_customer, df_customer.address_id ==df_address.address_id, 'inner')\\\n",
    "    .groupBy('city')\\\n",
    "    .agg(fsum('active').alias('active_customer_quantity'), fcount('active').alias('all_customer_quantity'))\\\n",
    "    .select('city', 'active_customer_quantity', (col('all_customer_quantity') - col('active_customer_quantity')).alias('inactive_customer_quantity'))\\\n",
    "    .sort(desc('inactive_customer_quantity'))\\\n",
    "    .show()"
   ]
  },
  {
   "cell_type": "code",
   "execution_count": 20,
   "id": "8d4ed083",
   "metadata": {},
   "outputs": [],
   "source": [
    "#7. вывести категорию фильмов, у которой самое большое кол-во часов суммарной аренды в городах \n",
    "#(customer.address_id в этом city), и которые начинаются на букву “a”. \n",
    "#То же самое сделать для городов в которых есть символ “-”. Написать все в одном запросе."
   ]
  },
  {
   "cell_type": "code",
   "execution_count": 21,
   "id": "5b59d9c2",
   "metadata": {},
   "outputs": [],
   "source": [
    "w = Window.partitionBy(\"city\").orderBy(desc(\"sum(rent_time)\"))"
   ]
  },
  {
   "cell_type": "code",
   "execution_count": 22,
   "id": "94630d4d",
   "metadata": {},
   "outputs": [
    {
     "name": "stderr",
     "output_type": "stream",
     "text": [
      "[Stage 80:=================================>                    (125 + 1) / 200]\r"
     ]
    },
    {
     "name": "stdout",
     "output_type": "stream",
     "text": [
      "+--------------------+--------+\n",
      "|                city|category|\n",
      "+--------------------+--------+\n",
      "|  A Corua (La Corua)|  Comedy|\n",
      "|                Abha|  Sci-Fi|\n",
      "|           Abu Dhabi|  Sci-Fi|\n",
      "|                Acua|   Drama|\n",
      "|               Adana|  Comedy|\n",
      "|         Addis Abeba|  Family|\n",
      "|                Aden|     New|\n",
      "|               Adoni|Children|\n",
      "|          Ahmadnagar|Children|\n",
      "|            Akishima|Children|\n",
      "|               Akron|  Sports|\n",
      "|         Alessandria|  Comedy|\n",
      "|Allappuzha (Allep...|     New|\n",
      "|             Allende|  Travel|\n",
      "|     Almirante Brown|  Sports|\n",
      "|            Alvorada|  Sci-Fi|\n",
      "|            Ambattur|   Games|\n",
      "|          Amersfoort|  Sports|\n",
      "|              Amroha|   Music|\n",
      "|      Angra dos Reis|  Family|\n",
      "+--------------------+--------+\n",
      "only showing top 20 rows\n",
      "\n"
     ]
    },
    {
     "name": "stderr",
     "output_type": "stream",
     "text": [
      "\r",
      "[Stage 80:=========================================>            (153 + 2) / 200]\r",
      "\r",
      "[Stage 80:=================================================>    (182 + 1) / 200]\r",
      "\r",
      "                                                                                \r"
     ]
    }
   ],
   "source": [
    "df_city.filter(col(\"city\").like(\"a%\") | col(\"city\").like(\"A%\") | col(\"city\").like(\"%-%\"))\\\n",
    "    .join(df_address, df_address.city_id == df_city.city_id, 'inner')\\\n",
    "    .join(df_customer, df_customer.address_id == df_address.address_id, 'inner')\\\n",
    "    .join(df_rental, df_rental.customer_id == df_customer.customer_id, 'inner')\\\n",
    "    .where(df_rental.rental_date.isNotNull() & df_rental.return_date.isNotNull())\\\n",
    "    .join(df_inventory, df_inventory.inventory_id == df_rental.inventory_id, 'inner')\\\n",
    "    .join(df_film_category, df_film_category.film_id == df_inventory.film_id, 'inner')\\\n",
    "    .join(df_category, df_category.category_id == df_film_category.category_id , 'inner')\\\n",
    "    .withColumn(\"rent_time\", (unix_timestamp('return_date') - unix_timestamp(\"rental_date\")))\\\n",
    "    .select('city', df_category.name.alias('category'), 'rent_time')\\\n",
    "    .groupby('city', 'category')\\\n",
    "    .agg(fsum(col('rent_time')))\\\n",
    "    .withColumn(\"row_number\", row_number().over(w))\\\n",
    "    .where(col('row_number') == 1)\\\n",
    "    .select('city', 'category')\\\n",
    "    .sort('city')\\\n",
    "    .show()"
   ]
  },
  {
   "cell_type": "code",
   "execution_count": null,
   "id": "cee3cfef",
   "metadata": {},
   "outputs": [],
   "source": []
  }
 ],
 "metadata": {
  "kernelspec": {
   "display_name": "Python 3 (ipykernel)",
   "language": "python",
   "name": "python3"
  },
  "language_info": {
   "codemirror_mode": {
    "name": "ipython",
    "version": 3
   },
   "file_extension": ".py",
   "mimetype": "text/x-python",
   "name": "python",
   "nbconvert_exporter": "python",
   "pygments_lexer": "ipython3",
   "version": "3.8.8"
  }
 },
 "nbformat": 4,
 "nbformat_minor": 5
}
